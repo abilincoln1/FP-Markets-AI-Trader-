{
  "cells": [
    {
      "cell_type": "markdown",
      "metadata": {
        "id": "view-in-github",
        "colab_type": "text"
      },
      "source": [
        "<a href=\"https://colab.research.google.com/github/abilincoln1/FP-Markets-AI-Trader-/blob/main/EV.ipynb\" target=\"_parent\"><img src=\"https://colab.research.google.com/assets/colab-badge.svg\" alt=\"Open In Colab\"/></a>"
      ]
    },
    {
      "cell_type": "code",
      "execution_count": null,
      "metadata": {
        "id": "682NKveUhPDm"
      },
      "outputs": [],
      "source": []
    },
    {
      "cell_type": "code",
      "execution_count": null,
      "metadata": {
        "colab": {
          "base_uri": "https://localhost:8080/"
        },
        "id": "241742e2",
        "outputId": "b471ed5c-7f17-4964-96a8-9d22ded8324a"
      },
      "outputs": [
        {
          "name": "stdout",
          "output_type": "stream",
          "text": [
            "# %% [markdown]\n",
            "# # 🚛 EV Fleet Battery Failure Predictor (UK-Optimized)\n",
            "# *Train an edge-compatible model to predict battery failures 24hrs in advance*\n",
            "\n",
            "# %% [markdown]\n",
            "# ## Step 1: Install Libraries\n",
            "!pip install pandas scikit-learn tensorflow tflite-support obd-py pyarrow -q\n",
            "\n",
            "# %% [markdown]\n",
            "# ## Step 2: Load UK Fleet Data (Sample Dataset)\n",
            "import pandas as pd\n",
            "from google.colab import files\n",
            "\n",
            "# Upload your OBD-II logs (or use our sample)\n",
            "uploaded = files.upload()\n",
            "df = pd.read_parquet(next(iter(uploaded.keys())))\n",
            "\n",
            "# Sample synthetic data if no upload\n",
            "if df.empty:\n",
            "  print(\"Using synthetic UK data...\")\n",
            "  data = {\n",
            "      'voltage': [13.2, 12.8, 14.1, 11.9, 13.5],\n",
            "      'temp_c': [18, 22, -3, 35, 19],  # UK weather range\n",
            "      'charge_cycles': [120, 345, 87, 500, 210],\n",
            "      'failed_next_24hrs': [0, 1, 0, 1, 0]  # Target\n",
            "  }\n",
            "  df = pd.DataFrame(data)\n",
            "\n",
            "# %% [markdown]\n",
            "# ## Step 3: Train Lightweight Model (Edge Optimized)\n",
            "from sklearn.ensemble import RandomForestClassifier\n",
            "from sklearn.model_selection import train_test_split\n",
            "\n",
            "# Feature engineering\n",
            "df['voltage_drop'] = df['voltage'].rolling(3).std().fillna(0)\n",
            "df['cold_weather_risk'] = (df['temp_c'] < 5).astype(int)\n",
            "\n",
            "X = df[['voltage', 'temp_c', 'charge_cycles', 'voltage_drop', 'cold_weather_risk']]\n",
            "y = df['failed_next_24hrs']\n",
            "\n",
            "# Split data\n",
            "X_train, X_test, y_train, y_test = train_test_split(X, y, test_size=0.2, random_state=42)\n",
            "\n",
            "# Train model\n",
            "model = RandomForestClassifier(n_estimators=50, max_depth=5)\n",
            "model.fit(X_train, y_train)\n",
            "\n",
            "# Evaluate\n",
            "print(f\"Accuracy: {model.score(X_test, y_test):.2f}\")\n",
            "\n",
            "# %% [markdown]\n",
            "# ## Step 4: Convert to TensorFlow Lite (For OBD-II Dongles)\n",
            "import tensorflow as tf\n",
            "from sklearn.tensorflow import export_saved_model\n",
            "\n",
            "# Convert sklearn → TF → TFLite\n",
            "tf_model = export_saved_model(model, \"saved_model\")\n",
            "converter = tf.lite.TFLiteConverter.from_saved_model(\"saved_model\")\n",
            "tflite_model = converter.convert()\n",
            "\n",
            "# Download for edge devices\n",
            "with open('battery_predictor.tflite', 'wb') as f:\n",
            "  f.write(tflite_model)\n",
            "files.download('battery_predictor.tflite')\n",
            "\n",
            "print(\"✅ TFLite model ready for Raspberry Pi/OBD-II!\")\n"
          ]
        }
      ],
      "source": [
        "with open('/content/deepseek_python_20250818_540d41.py', 'r') as f:\n",
        "    print(f.read())"
      ]
    },
    {
      "cell_type": "code",
      "execution_count": 3,
      "metadata": {
        "colab": {
          "base_uri": "https://localhost:8080/",
          "height": 399
        },
        "id": "a72692d5",
        "outputId": "a232546e-e613-459d-bbb4-183f8d5e5d03"
      },
      "outputs": [
        {
          "output_type": "stream",
          "name": "stdout",
          "text": [
            "Using synthetic UK data...\n",
            "\n",
            "Training the TensorFlow/Keras model...\n"
          ]
        },
        {
          "output_type": "stream",
          "name": "stderr",
          "text": [
            "/usr/local/lib/python3.12/dist-packages/keras/src/layers/core/input_layer.py:27: UserWarning: Argument `input_shape` is deprecated. Use `shape` instead.\n",
            "  warnings.warn(\n"
          ]
        },
        {
          "output_type": "stream",
          "name": "stdout",
          "text": [
            "TensorFlow/Keras Model Accuracy: 0.00\n",
            "Saved artifact at '/tmp/tmpcex3h0vs'. The following endpoints are available:\n",
            "\n",
            "* Endpoint 'serve'\n",
            "  args_0 (POSITIONAL_ONLY): TensorSpec(shape=(None, 5), dtype=tf.float32, name='keras_tensor_5')\n",
            "Output Type:\n",
            "  TensorSpec(shape=(None, 1), dtype=tf.float32, name=None)\n",
            "Captures:\n",
            "  134734954758224: TensorSpec(shape=(), dtype=tf.resource, name=None)\n",
            "  134734954761104: TensorSpec(shape=(), dtype=tf.resource, name=None)\n",
            "  134734954761296: TensorSpec(shape=(), dtype=tf.resource, name=None)\n",
            "  134734954762640: TensorSpec(shape=(), dtype=tf.resource, name=None)\n",
            "  134734954761680: TensorSpec(shape=(), dtype=tf.resource, name=None)\n",
            "  134734954758800: TensorSpec(shape=(), dtype=tf.resource, name=None)\n"
          ]
        },
        {
          "output_type": "display_data",
          "data": {
            "text/plain": [
              "<IPython.core.display.Javascript object>"
            ],
            "application/javascript": [
              "\n",
              "    async function download(id, filename, size) {\n",
              "      if (!google.colab.kernel.accessAllowed) {\n",
              "        return;\n",
              "      }\n",
              "      const div = document.createElement('div');\n",
              "      const label = document.createElement('label');\n",
              "      label.textContent = `Downloading \"${filename}\": `;\n",
              "      div.appendChild(label);\n",
              "      const progress = document.createElement('progress');\n",
              "      progress.max = size;\n",
              "      div.appendChild(progress);\n",
              "      document.body.appendChild(div);\n",
              "\n",
              "      const buffers = [];\n",
              "      let downloaded = 0;\n",
              "\n",
              "      const channel = await google.colab.kernel.comms.open(id);\n",
              "      // Send a message to notify the kernel that we're ready.\n",
              "      channel.send({})\n",
              "\n",
              "      for await (const message of channel.messages) {\n",
              "        // Send a message to notify the kernel that we're ready.\n",
              "        channel.send({})\n",
              "        if (message.buffers) {\n",
              "          for (const buffer of message.buffers) {\n",
              "            buffers.push(buffer);\n",
              "            downloaded += buffer.byteLength;\n",
              "            progress.value = downloaded;\n",
              "          }\n",
              "        }\n",
              "      }\n",
              "      const blob = new Blob(buffers, {type: 'application/binary'});\n",
              "      const a = document.createElement('a');\n",
              "      a.href = window.URL.createObjectURL(blob);\n",
              "      a.download = filename;\n",
              "      div.appendChild(a);\n",
              "      a.click();\n",
              "      div.remove();\n",
              "    }\n",
              "  "
            ]
          },
          "metadata": {}
        },
        {
          "output_type": "display_data",
          "data": {
            "text/plain": [
              "<IPython.core.display.Javascript object>"
            ],
            "application/javascript": [
              "download(\"download_c58dcade-0f9e-4794-9ccc-d918f154648f\", \"battery_predictor.tflite\", 3032)"
            ]
          },
          "metadata": {}
        },
        {
          "output_type": "stream",
          "name": "stdout",
          "text": [
            "\n",
            "✅ TFLite model ready for Raspberry Pi/OBD-II!\n",
            "The TFLite model 'battery_predictor.tflite' has been saved.\n"
          ]
        }
      ],
      "source": [
        "# %% [markdown]\n",
        "# # 🚛 EV Fleet Battery Failure Predictor (UK-Optimized)\n",
        "# *Train an edge-compatible model to predict battery failures 24hrs in advance*\n",
        "\n",
        "# %% [markdown]\n",
        "# ## Step 1: Install Libraries\n",
        "# Removed obd-py as it might not be available in this environment and explore alternatives if needed.\n",
        "# Also removed tflite-support as it is not needed for the conversion step using from_saved_model.\n",
        "!pip install pandas scikit-learn tensorflow pyarrow -q\n",
        "\n",
        "# %% [markdown]\n",
        "# ## Step 2: Load UK Fleet Data (Sample Dataset)\n",
        "import pandas as pd\n",
        "from google.colab import files\n",
        "\n",
        "# Upload your OBD-II logs (or use our sample)\n",
        "# uploaded = files.upload() # Commenting out file upload for now to use synthetic data\n",
        "# df = pd.read_parquet(next(iter(uploaded.keys()))) # Commenting out file upload for now to use synthetic data\n",
        "\n",
        "# Sample synthetic data if no upload\n",
        "# if df.empty: # This check will always be true after commenting out file upload\n",
        "print(\"Using synthetic UK data...\")\n",
        "data = {\n",
        "    'voltage': [13.2, 12.8, 14.1, 11.9, 13.5, 12.5, 13.0, 11.5, 14.0, 12.0],\n",
        "    'temp_c': [18, 22, -3, 35, 19, 15, 25, 0, 30, 10],  # UK weather range\n",
        "    'charge_cycles': [120, 345, 87, 500, 210, 150, 400, 50, 600, 90],\n",
        "    'failed_next_24hrs': [0, 1, 0, 1, 0, 0, 1, 0, 1, 0]  # Target\n",
        "}\n",
        "df = pd.DataFrame(data)\n",
        "\n",
        "\n",
        "# %% [markdown]\n",
        "# ## Step 3: Train Lightweight Model (Edge Optimized)\n",
        "import tensorflow as tf\n",
        "from sklearn.model_selection import train_test_split\n",
        "\n",
        "# Feature engineering\n",
        "df['voltage_drop'] = df['voltage'].rolling(3).std().fillna(0)\n",
        "df['cold_weather_risk'] = (df['temp_c'] < 5).astype(int)\n",
        "\n",
        "X = df[['voltage', 'temp_c', 'charge_cycles', 'voltage_drop', 'cold_weather_risk']]\n",
        "y = df['failed_next_24hrs']\n",
        "\n",
        "# Split data\n",
        "X_train, X_test, y_train, y_test = train_test_split(X, y, test_size=0.2, random_state=42)\n",
        "\n",
        "# Convert pandas DataFrames to TensorFlow Tensors\n",
        "X_train_tf = tf.constant(X_train.values, dtype=tf.float32)\n",
        "X_test_tf = tf.constant(X_test.values, dtype=tf.float32)\n",
        "y_train_tf = tf.constant(y_train.values, dtype=tf.float32)\n",
        "y_test_tf = tf.constant(y_test.values, dtype=tf.float32)\n",
        "\n",
        "\n",
        "# Build a simple Keras model for binary classification\n",
        "model = tf.keras.Sequential([\n",
        "    tf.keras.layers.InputLayer(input_shape=(X_train.shape[1],)), # Input layer matching number of features\n",
        "    tf.keras.layers.Dense(16, activation='relu'), # Hidden layer with ReLU activation\n",
        "    tf.keras.layers.Dropout(0.2), # Dropout for regularization\n",
        "    tf.keras.layers.Dense(8, activation='relu'), # Another hidden layer\n",
        "    tf.keras.layers.Dense(1, activation='sigmoid') # Output layer for binary classification with sigmoid\n",
        "])\n",
        "\n",
        "# Compile the model\n",
        "model.compile(optimizer='adam',\n",
        "              loss='binary_crossentropy',\n",
        "              metrics=['accuracy'])\n",
        "\n",
        "# Train the model\n",
        "print(\"\\nTraining the TensorFlow/Keras model...\")\n",
        "history = model.fit(X_train_tf, y_train_tf, epochs=100, batch_size=8, validation_split=0.2, verbose=0) # Train for 100 epochs\n",
        "\n",
        "# Evaluate the model\n",
        "loss, accuracy = model.evaluate(X_test_tf, y_test_tf, verbose=0)\n",
        "print(f\"TensorFlow/Keras Model Accuracy: {accuracy:.2f}\")\n",
        "\n",
        "\n",
        "# %% [markdown]\n",
        "# ## Step 4: Convert to TensorFlow Lite (For OBD-II Dongles)\n",
        "import tensorflow as tf\n",
        "# from sklearn.tensorflow import export_saved_model # Removed incorrect import\n",
        "\n",
        "# Convert sklearn → TF → TFLite\n",
        "# export_saved_model(model, \"saved_model\") # Removed incorrect usage\n",
        "# converter = tf.lite.TFLiteConverter.from_saved_model(\"saved_model\") # This requires a SavedModel format\n",
        "# A standard way to convert a trained Keras model to TFLite is shown below.\n",
        "# Since we are using RandomForestClassifier from sklearn, direct conversion to TFLite is not straightforward.\n",
        "# One approach is to rebuild the model in TensorFlow/Keras or use a library that supports converting sklearn models to TensorFlow format.\n",
        "\n",
        "# Now that we have a TensorFlow/Keras model, we can convert it to TFLite\n",
        "converter = tf.lite.TFLiteConverter.from_keras_model(model)\n",
        "tflite_model = converter.convert()\n",
        "\n",
        "# Download for edge devices\n",
        "with open('battery_predictor.tflite', 'wb') as f:\n",
        "  f.write(tflite_model)\n",
        "files.download('battery_predictor.tflite') # Uncommented download\n",
        "\n",
        "print(\"\\n✅ TFLite model ready for Raspberry Pi/OBD-II!\")\n",
        "print(\"The TFLite model 'battery_predictor.tflite' has been saved.\")"
      ]
    }
  ],
  "metadata": {
    "colab": {
      "provenance": [],
      "authorship_tag": "ABX9TyOy7SDhpHBZFXNjEq8GfypR",
      "include_colab_link": true
    },
    "kernelspec": {
      "display_name": "Python 3",
      "name": "python3"
    },
    "language_info": {
      "name": "python"
    }
  },
  "nbformat": 4,
  "nbformat_minor": 0
}